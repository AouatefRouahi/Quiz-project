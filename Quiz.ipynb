{
 "cells": [
  {
   "cell_type": "markdown",
   "metadata": {},
   "source": [
    "# Build a quiz\n",
    "## Function **check_answer** \n",
    "This function is used to check a given answer by the user to a precise question, both anwer and question are passed to the function as parameters"
   ]
  },
  {
   "cell_type": "code",
   "execution_count": 1,
   "metadata": {},
   "outputs": [],
   "source": [
    "def check_answer(question, answer):\n",
    "    if quiz[question]['answer'].lower() == answer.lower():\n",
    "        return True\n",
    "    else:\n",
    "        return False"
   ]
  },
  {
   "cell_type": "markdown",
   "metadata": {},
   "source": [
    "## Function **quiz_game** \n",
    "This function is the main function in this project. It takes a set of questions while ensuring that the user has the right to only 3 attempts, otherwise, he loses the quiz"
   ]
  },
  {
   "cell_type": "code",
   "execution_count": 2,
   "metadata": {},
   "outputs": [],
   "source": [
    "def quiz_game(dic):\n",
    "    print(\"Welcome to our quizz!\")\n",
    "    print(\"You have 3 lives.\")\n",
    "    print(\"----------------\")\n",
    "    \n",
    "    attempts=3 \n",
    "    quest= 1\n",
    "    while attempts > 0 and quest<=3:\n",
    "        print(quiz[quest]['question'])\n",
    "        check = False\n",
    "        while attempts > 0 and not check:\n",
    "            ans = input(\"Your answer:\")\n",
    "            check = check_answer(quest, ans)\n",
    "            if check :\n",
    "                print(\"Good job! This is the right answer\")\n",
    "            else:\n",
    "                attempts-=1\n",
    "                if attempts == 0:\n",
    "                    print(\"Oh no, you lost the quiz...\")\n",
    "                else:\n",
    "                    print(f\"Sorry, you have {attempts} chances left\")\n",
    "        print()\n",
    "        quest+=1\n",
    "    if attempts > 0 :\n",
    "        print(\"Well done! You are the quiz winner!\")"
   ]
  },
  {
   "cell_type": "markdown",
   "metadata": {},
   "source": [
    "## Set of questions\n",
    "The set of questions are structrued as a dictionary"
   ]
  },
  {
   "cell_type": "code",
   "execution_count": 3,
   "metadata": {},
   "outputs": [],
   "source": [
    "quiz ={\n",
    "    1:{'question': 'What is the capital of Chile?', 'answer': 'santiago'},\n",
    "    2:{'question': 'What is the smallest country in the world?', 'answer': 'vatican'},\n",
    "    3:{'question': 'What is the hottest continent on Earth?', 'answer': 'africa'}    \n",
    "}"
   ]
  },
  {
   "cell_type": "markdown",
   "metadata": {},
   "source": [
    "## Calling the main function __quiz_game--\n",
    "we call the main function \"quiz_game\" that will lunch all the quiz game"
   ]
  },
  {
   "cell_type": "code",
   "execution_count": 4,
   "metadata": {},
   "outputs": [
    {
     "name": "stdout",
     "output_type": "stream",
     "text": [
      "Welcome to our quizz!\n",
      "You have 3 lives.\n",
      "----------------\n",
      "What is the capital of Chile?\n"
     ]
    },
    {
     "name": "stdin",
     "output_type": "stream",
     "text": [
      "Your answer: santiago\n"
     ]
    },
    {
     "name": "stdout",
     "output_type": "stream",
     "text": [
      "Good job! This is the right answer\n",
      "\n",
      "What is the smallest country in the world?\n"
     ]
    },
    {
     "name": "stdin",
     "output_type": "stream",
     "text": [
      "Your answer: va\n"
     ]
    },
    {
     "name": "stdout",
     "output_type": "stream",
     "text": [
      "Sorry, you have 2 chances left\n"
     ]
    },
    {
     "name": "stdin",
     "output_type": "stream",
     "text": [
      "Your answer: vatican\n"
     ]
    },
    {
     "name": "stdout",
     "output_type": "stream",
     "text": [
      "Good job! This is the right answer\n",
      "\n",
      "What is the hottest continent on Earth?\n"
     ]
    },
    {
     "name": "stdin",
     "output_type": "stream",
     "text": [
      "Your answer: africa\n"
     ]
    },
    {
     "name": "stdout",
     "output_type": "stream",
     "text": [
      "Good job! This is the right answer\n",
      "\n",
      "Well done! You are the quiz winner!\n"
     ]
    }
   ],
   "source": [
    "quiz_game(quiz)"
   ]
  }
 ],
 "metadata": {
  "kernelspec": {
   "display_name": "Python 3",
   "language": "python",
   "name": "python3"
  },
  "language_info": {
   "codemirror_mode": {
    "name": "ipython",
    "version": 3
   },
   "file_extension": ".py",
   "mimetype": "text/x-python",
   "name": "python",
   "nbconvert_exporter": "python",
   "pygments_lexer": "ipython3",
   "version": "3.8.6"
  }
 },
 "nbformat": 4,
 "nbformat_minor": 4
}
